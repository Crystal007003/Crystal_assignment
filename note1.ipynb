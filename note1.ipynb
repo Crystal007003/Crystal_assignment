{
 "cells": [
  {
   "cell_type": "markdown",
   "id": "3393a93f-cc51-4dfd-ab79-a23f79f5d1f6",
   "metadata": {},
   "source": [
    "## CRYSTAL DATA SCIENCE ASSIGNMENT ##"
   ]
  },
  {
   "cell_type": "code",
   "execution_count": 8,
   "id": "eafd74cd-eede-4c08-b0e7-1ea3f05d71ea",
   "metadata": {},
   "outputs": [],
   "source": [
    "# To check the data type of different assigned variables\n",
    "Name = 'Ade'"
   ]
  },
  {
   "cell_type": "code",
   "execution_count": 9,
   "id": "3c3f4eb7-483e-4d23-8f33-44bffeb02c9b",
   "metadata": {},
   "outputs": [
    {
     "data": {
      "text/plain": [
       "str"
      ]
     },
     "execution_count": 9,
     "metadata": {},
     "output_type": "execute_result"
    }
   ],
   "source": [
    "type (Name)"
   ]
  },
  {
   "cell_type": "code",
   "execution_count": 10,
   "id": "8a59625b-8bf1-40aa-8a6b-30a5fdacbe8a",
   "metadata": {},
   "outputs": [],
   "source": [
    "Numbers = [0.7, 0.5, 0.3]"
   ]
  },
  {
   "cell_type": "code",
   "execution_count": 11,
   "id": "965d3687-d9e8-41df-a218-381e57f1c5b0",
   "metadata": {},
   "outputs": [
    {
     "data": {
      "text/plain": [
       "list"
      ]
     },
     "execution_count": 11,
     "metadata": {},
     "output_type": "execute_result"
    }
   ],
   "source": [
    "type (Numbers)"
   ]
  },
  {
   "cell_type": "code",
   "execution_count": 12,
   "id": "15cebd03-ad85-4beb-bea6-26bae7b04240",
   "metadata": {},
   "outputs": [],
   "source": [
    "Decimal = 0.001"
   ]
  },
  {
   "cell_type": "code",
   "execution_count": 13,
   "id": "fb414f7e-239a-45f9-a5cf-b05fdef457e9",
   "metadata": {},
   "outputs": [
    {
     "data": {
      "text/plain": [
       "float"
      ]
     },
     "execution_count": 13,
     "metadata": {},
     "output_type": "execute_result"
    }
   ],
   "source": [
    "type(Decimal)"
   ]
  },
  {
   "cell_type": "code",
   "execution_count": 14,
   "id": "a943a8bd-24be-4adb-a5d3-be893bafcb20",
   "metadata": {},
   "outputs": [],
   "source": [
    "# To create a list and turn it to a DataFrame\n",
    "Dummy_list = { 'Fruits' : ['Apple', 'Banana', 'Orange'], 'Colours': ['Green', 'Yellow', 'Orange']}"
   ]
  },
  {
   "cell_type": "code",
   "execution_count": 17,
   "id": "4f03a0cf-ff60-4f04-9680-129a30d95376",
   "metadata": {},
   "outputs": [],
   "source": [
    "# Importing the required package\n",
    "import pandas as pd"
   ]
  },
  {
   "cell_type": "code",
   "execution_count": 18,
   "id": "78e7fad3-6a8b-4819-9bcd-3575f1f7a7cb",
   "metadata": {},
   "outputs": [],
   "source": [
    "Dummy = pd.DataFrame (Dummy_list)"
   ]
  },
  {
   "cell_type": "code",
   "execution_count": 19,
   "id": "ef9d65ad-ce87-425c-99f3-5f418c3504d9",
   "metadata": {},
   "outputs": [
    {
     "data": {
      "text/html": [
       "<div>\n",
       "<style scoped>\n",
       "    .dataframe tbody tr th:only-of-type {\n",
       "        vertical-align: middle;\n",
       "    }\n",
       "\n",
       "    .dataframe tbody tr th {\n",
       "        vertical-align: top;\n",
       "    }\n",
       "\n",
       "    .dataframe thead th {\n",
       "        text-align: right;\n",
       "    }\n",
       "</style>\n",
       "<table border=\"1\" class=\"dataframe\">\n",
       "  <thead>\n",
       "    <tr style=\"text-align: right;\">\n",
       "      <th></th>\n",
       "      <th>Fruits</th>\n",
       "      <th>Colours</th>\n",
       "    </tr>\n",
       "  </thead>\n",
       "  <tbody>\n",
       "    <tr>\n",
       "      <th>0</th>\n",
       "      <td>Apple</td>\n",
       "      <td>Green</td>\n",
       "    </tr>\n",
       "    <tr>\n",
       "      <th>1</th>\n",
       "      <td>Banana</td>\n",
       "      <td>Yellow</td>\n",
       "    </tr>\n",
       "    <tr>\n",
       "      <th>2</th>\n",
       "      <td>Orange</td>\n",
       "      <td>Orange</td>\n",
       "    </tr>\n",
       "  </tbody>\n",
       "</table>\n",
       "</div>"
      ],
      "text/plain": [
       "   Fruits Colours\n",
       "0   Apple   Green\n",
       "1  Banana  Yellow\n",
       "2  Orange  Orange"
      ]
     },
     "execution_count": 19,
     "metadata": {},
     "output_type": "execute_result"
    }
   ],
   "source": [
    "Dummy"
   ]
  },
  {
   "cell_type": "code",
   "execution_count": null,
   "id": "736279aa-53e5-4563-a1d9-f537d82b3945",
   "metadata": {},
   "outputs": [
    {
     "ename": "",
     "evalue": "",
     "output_type": "error",
     "traceback": [
      "\u001b[1;31mFailed to start the Kernel. \n",
      "\u001b[1;31mUnable to start Kernel 'base (Python 3.11.7)' due to a timeout waiting for the ports to get used. \n",
      "\u001b[1;31mView Jupyter <a href='command:jupyter.viewOutput'>log</a> for further details."
     ]
    }
   ],
   "source": [
    "Dummy"
   ]
  },
  {
   "cell_type": "code",
   "execution_count": 1,
   "id": "777b94e7",
   "metadata": {},
   "outputs": [
    {
     "name": "stdout",
     "output_type": "stream",
     "text": [
      "Bank statement\n"
     ]
    }
   ],
   "source": [
    "print ('Bank statement')"
   ]
  },
  {
   "cell_type": "markdown",
   "id": "9f88bd9c",
   "metadata": {},
   "source": [
    "# Hello\n",
    "- Point 1\n",
    "- Point 2"
   ]
  },
  {
   "cell_type": "markdown",
   "id": "27a07ada",
   "metadata": {},
   "source": [
    "-"
   ]
  },
  {
   "cell_type": "code",
   "execution_count": 3,
   "id": "e976cfc6",
   "metadata": {},
   "outputs": [
    {
     "name": "stdout",
     "output_type": "stream",
     "text": [
      "Tech is teching\n"
     ]
    }
   ],
   "source": [
    "print ('Tech is teching')"
   ]
  },
  {
   "cell_type": "code",
   "execution_count": null,
   "id": "c962b252",
   "metadata": {},
   "outputs": [],
   "source": []
  }
 ],
 "metadata": {
  "kernelspec": {
   "display_name": "Python 3 (ipykernel)",
   "language": "python",
   "name": "python3"
  },
  "language_info": {
   "codemirror_mode": {
    "name": "ipython",
    "version": 3
   },
   "file_extension": ".py",
   "mimetype": "text/x-python",
   "name": "python",
   "nbconvert_exporter": "python",
   "pygments_lexer": "ipython3",
   "version": "3.11.7"
  }
 },
 "nbformat": 4,
 "nbformat_minor": 5
}
