{
 "cells": [
  {
   "cell_type": "markdown",
   "id": "23f360b7-6f82-4915-98af-4335ac7a5c5d",
   "metadata": {},
   "source": [
    "**CRYSTAL DATA SCIENCE ASSIGNMENT**"
   ]
  },
  {
   "cell_type": "code",
   "execution_count": 1,
   "id": "d431c78f-60d9-47bc-a6d7-f422c919f5fb",
   "metadata": {},
   "outputs": [
    {
     "name": "stdout",
     "output_type": "stream",
     "text": [
      "Anaconda is a Software tool for Data analytics\n"
     ]
    }
   ],
   "source": [
    "print ('Anaconda is a Software tool for Data analytics')"
   ]
  },
  {
   "cell_type": "code",
   "execution_count": 2,
   "id": "b6a922f0-1e8f-47e3-862c-4e568d24e226",
   "metadata": {},
   "outputs": [
    {
     "data": {
      "text/plain": [
       "175"
      ]
     },
     "execution_count": 2,
     "metadata": {},
     "output_type": "execute_result"
    }
   ],
   "source": [
    "# Assigning variable and performing multiplication action\n",
    "x = 35\n",
    "y = 5\n",
    "(x*y)"
   ]
  },
  {
   "cell_type": "code",
   "execution_count": 3,
   "id": "22b1e999-b837-441c-b6b3-e5783425504d",
   "metadata": {},
   "outputs": [],
   "source": [
    "# Assigning variables\n",
    "Analytics_tools = ['MsExcel','PowerBI','Python','SQL']"
   ]
  },
  {
   "cell_type": "code",
   "execution_count": 4,
   "id": "fbf76bab-3297-4e6a-a581-3b74400b3a7c",
   "metadata": {},
   "outputs": [
    {
     "data": {
      "text/plain": [
       "['MsExcel', 'PowerBI', 'Python', 'SQL']"
      ]
     },
     "execution_count": 4,
     "metadata": {},
     "output_type": "execute_result"
    }
   ],
   "source": [
    "Analytics_tools"
   ]
  },
  {
   "cell_type": "code",
   "execution_count": null,
   "id": "e830ea98-77ba-4515-a2be-bceb89eb1c56",
   "metadata": {},
   "outputs": [],
   "source": []
  }
 ],
 "metadata": {
  "kernelspec": {
   "display_name": "Python 3 (ipykernel)",
   "language": "python",
   "name": "python3"
  },
  "language_info": {
   "codemirror_mode": {
    "name": "ipython",
    "version": 3
   },
   "file_extension": ".py",
   "mimetype": "text/x-python",
   "name": "python",
   "nbconvert_exporter": "python",
   "pygments_lexer": "ipython3",
   "version": "3.11.7"
  }
 },
 "nbformat": 4,
 "nbformat_minor": 5
}
